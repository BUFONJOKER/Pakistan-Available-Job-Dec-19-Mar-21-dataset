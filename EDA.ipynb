{
 "cells": [
  {
   "cell_type": "code",
   "execution_count": 58,
   "metadata": {},
   "outputs": [],
   "source": [
    "import pandas as pd\n",
    "import matplotlib.pyplot as plt\n",
    "import seaborn as sns\n",
    "sns.set(color_codes=True)"
   ]
  },
  {
   "cell_type": "code",
   "execution_count": 59,
   "metadata": {},
   "outputs": [],
   "source": [
    "df = pd.read_csv(\"Pakistan Available Job Dec 19 - Mar-21.csv\")\n",
    "data = pd.read_csv(\"Pakistan Available Job Dec 19 - Mar-21.csv\")"
   ]
  },
  {
   "cell_type": "code",
   "execution_count": 60,
   "metadata": {},
   "outputs": [
    {
     "data": {
      "text/html": [
       "<div>\n",
       "<style scoped>\n",
       "    .dataframe tbody tr th:only-of-type {\n",
       "        vertical-align: middle;\n",
       "    }\n",
       "\n",
       "    .dataframe tbody tr th {\n",
       "        vertical-align: top;\n",
       "    }\n",
       "\n",
       "    .dataframe thead th {\n",
       "        text-align: right;\n",
       "    }\n",
       "</style>\n",
       "<table border=\"1\" class=\"dataframe\">\n",
       "  <thead>\n",
       "    <tr style=\"text-align: right;\">\n",
       "      <th></th>\n",
       "      <th>Job Name</th>\n",
       "      <th>label</th>\n",
       "      <th>Company Name</th>\n",
       "      <th>Job Type</th>\n",
       "      <th>Experience Required</th>\n",
       "      <th>Department</th>\n",
       "      <th>JD</th>\n",
       "      <th>City</th>\n",
       "      <th>Date Posted</th>\n",
       "    </tr>\n",
       "  </thead>\n",
       "  <tbody>\n",
       "    <tr>\n",
       "      <th>0</th>\n",
       "      <td>Full Time New Job Positions .Net, .Netcore, Fl...</td>\n",
       "      <td>Premium Job</td>\n",
       "      <td>Nayel Solutions, Pakistan</td>\n",
       "      <td>Full Time Jobs</td>\n",
       "      <td>2 Years Job Exp.</td>\n",
       "      <td>IT Jobs</td>\n",
       "      <td>New Job Positions .net, .netcore, flutter, Tea...</td>\n",
       "      <td>Islamabad</td>\n",
       "      <td>12-Mar-21</td>\n",
       "    </tr>\n",
       "    <tr>\n",
       "      <th>1</th>\n",
       "      <td>Full Time Senior Web Developer Jobs in Pakistan</td>\n",
       "      <td>Premium Job</td>\n",
       "      <td>Eurosoft Tech Private Limited, Pakistan</td>\n",
       "      <td>Full Time Jobs</td>\n",
       "      <td>2 Years Job Exp.</td>\n",
       "      <td>IT Jobs</td>\n",
       "      <td>We are looking for an experienced Web Develope...</td>\n",
       "      <td>Karachi</td>\n",
       "      <td>12-Mar-21</td>\n",
       "    </tr>\n",
       "    <tr>\n",
       "      <th>2</th>\n",
       "      <td>Full Time Russian Speakers Jobs in Pakistan</td>\n",
       "      <td>Premium Job</td>\n",
       "      <td>ICM JAPAN, Pakistan</td>\n",
       "      <td>Full Time Jobs</td>\n",
       "      <td>&lt; 1 Year</td>\n",
       "      <td>Customer Service Jobs</td>\n",
       "      <td>International clients dealing exposure (B2B).S...</td>\n",
       "      <td>Karachi</td>\n",
       "      <td>12-Mar-21</td>\n",
       "    </tr>\n",
       "    <tr>\n",
       "      <th>3</th>\n",
       "      <td>Full Time Customer Support Specialist - Intern...</td>\n",
       "      <td>Premium Job</td>\n",
       "      <td>ibex, Pakistan</td>\n",
       "      <td>Full Time Jobs</td>\n",
       "      <td>Job for Fresh Graduates</td>\n",
       "      <td>Customer Service Jobs</td>\n",
       "      <td>Responsible for acting as a liaison between ou...</td>\n",
       "      <td>Islamabad</td>\n",
       "      <td>9-Mar-21</td>\n",
       "    </tr>\n",
       "    <tr>\n",
       "      <th>4</th>\n",
       "      <td>Full Time English Speaker - International Busi...</td>\n",
       "      <td>Premium Job</td>\n",
       "      <td>ICM JAPAN, Pakistan</td>\n",
       "      <td>Full Time Job</td>\n",
       "      <td>&lt; 1 Year</td>\n",
       "      <td>Customer Service Job</td>\n",
       "      <td>International clients dealing exposure (B2B) a...</td>\n",
       "      <td>Karachi</td>\n",
       "      <td>5-Mar-21</td>\n",
       "    </tr>\n",
       "    <tr>\n",
       "      <th>5</th>\n",
       "      <td>Full Time Socks Operation Manager And Socks In...</td>\n",
       "      <td>Premium Job</td>\n",
       "      <td>Uni Hosiery Co. Inc., Pakistan</td>\n",
       "      <td>Full Time Job</td>\n",
       "      <td>5 Years Job Exp.</td>\n",
       "      <td>Production Job</td>\n",
       "      <td>NOTE: Apply By Sending Your CV/Resume to: hrdp...</td>\n",
       "      <td>Faisalabad</td>\n",
       "      <td>5-Mar-21</td>\n",
       "    </tr>\n",
       "    <tr>\n",
       "      <th>6</th>\n",
       "      <td>Full Time Call Center - Lead Agent Jobs in Pak...</td>\n",
       "      <td>Premium Job</td>\n",
       "      <td>Pakistan Sweet Home AFP, Pakistan</td>\n",
       "      <td>Full Time Jobs</td>\n",
       "      <td>3 Years Job Exp.</td>\n",
       "      <td>Sales Jobs</td>\n",
       "      <td>Each Lead Agent is responsible for generating ...</td>\n",
       "      <td>Islamabad</td>\n",
       "      <td>22-Feb-21</td>\n",
       "    </tr>\n",
       "    <tr>\n",
       "      <th>7</th>\n",
       "      <td>Full Time Manager Accounts &amp; Taxation (CA) Job...</td>\n",
       "      <td>Premium Job</td>\n",
       "      <td>Mercantile Enterprises Pvt Ltd, Pakistan</td>\n",
       "      <td>Full Time Jobs</td>\n",
       "      <td>4 Years Job Exp.</td>\n",
       "      <td>Publishing Jobs</td>\n",
       "      <td>We at Mercantile Enterprises (Pvt) Ltd is look...</td>\n",
       "      <td>Lahore</td>\n",
       "      <td>19-Feb-21</td>\n",
       "    </tr>\n",
       "    <tr>\n",
       "      <th>8</th>\n",
       "      <td>Online Full Time Remote Researcher, Content Cr...</td>\n",
       "      <td>Premium Job</td>\n",
       "      <td>Confidential, Pakistan</td>\n",
       "      <td>Full Time Job</td>\n",
       "      <td>&lt; 1 Year</td>\n",
       "      <td>Admin Job</td>\n",
       "      <td>This job is a remote working opportunity. We a...</td>\n",
       "      <td>Faisalabad</td>\n",
       "      <td>17-Feb-21</td>\n",
       "    </tr>\n",
       "    <tr>\n",
       "      <th>9</th>\n",
       "      <td>Full Time Angularjs And .Net Core Developer Jo...</td>\n",
       "      <td>Premium Job</td>\n",
       "      <td>Eurosoft Tech Private Limited, Pakistan</td>\n",
       "      <td>Full Time Jobs</td>\n",
       "      <td>7 Years Job Exp.</td>\n",
       "      <td>IT Jobs</td>\n",
       "      <td>Command on following skillsAngularJS\\nNodeJs\\n...</td>\n",
       "      <td>Karachi</td>\n",
       "      <td>16-Feb-21</td>\n",
       "    </tr>\n",
       "  </tbody>\n",
       "</table>\n",
       "</div>"
      ],
      "text/plain": [
       "                                            Job Name        label  \\\n",
       "0  Full Time New Job Positions .Net, .Netcore, Fl...  Premium Job   \n",
       "1    Full Time Senior Web Developer Jobs in Pakistan  Premium Job   \n",
       "2        Full Time Russian Speakers Jobs in Pakistan  Premium Job   \n",
       "3  Full Time Customer Support Specialist - Intern...  Premium Job   \n",
       "4  Full Time English Speaker - International Busi...  Premium Job   \n",
       "5  Full Time Socks Operation Manager And Socks In...  Premium Job   \n",
       "6  Full Time Call Center - Lead Agent Jobs in Pak...  Premium Job   \n",
       "7  Full Time Manager Accounts & Taxation (CA) Job...  Premium Job   \n",
       "8  Online Full Time Remote Researcher, Content Cr...  Premium Job   \n",
       "9  Full Time Angularjs And .Net Core Developer Jo...  Premium Job   \n",
       "\n",
       "                               Company Name        Job Type  \\\n",
       "0                 Nayel Solutions, Pakistan  Full Time Jobs   \n",
       "1   Eurosoft Tech Private Limited, Pakistan  Full Time Jobs   \n",
       "2                       ICM JAPAN, Pakistan  Full Time Jobs   \n",
       "3                            ibex, Pakistan  Full Time Jobs   \n",
       "4                       ICM JAPAN, Pakistan   Full Time Job   \n",
       "5            Uni Hosiery Co. Inc., Pakistan   Full Time Job   \n",
       "6         Pakistan Sweet Home AFP, Pakistan  Full Time Jobs   \n",
       "7  Mercantile Enterprises Pvt Ltd, Pakistan  Full Time Jobs   \n",
       "8                    Confidential, Pakistan   Full Time Job   \n",
       "9   Eurosoft Tech Private Limited, Pakistan  Full Time Jobs   \n",
       "\n",
       "       Experience Required             Department  \\\n",
       "0         2 Years Job Exp.                IT Jobs   \n",
       "1         2 Years Job Exp.                IT Jobs   \n",
       "2                 < 1 Year  Customer Service Jobs   \n",
       "3  Job for Fresh Graduates  Customer Service Jobs   \n",
       "4                 < 1 Year   Customer Service Job   \n",
       "5         5 Years Job Exp.         Production Job   \n",
       "6         3 Years Job Exp.             Sales Jobs   \n",
       "7         4 Years Job Exp.        Publishing Jobs   \n",
       "8                 < 1 Year              Admin Job   \n",
       "9         7 Years Job Exp.                IT Jobs   \n",
       "\n",
       "                                                  JD        City Date Posted  \n",
       "0  New Job Positions .net, .netcore, flutter, Tea...   Islamabad   12-Mar-21  \n",
       "1  We are looking for an experienced Web Develope...     Karachi   12-Mar-21  \n",
       "2  International clients dealing exposure (B2B).S...     Karachi   12-Mar-21  \n",
       "3  Responsible for acting as a liaison between ou...   Islamabad    9-Mar-21  \n",
       "4  International clients dealing exposure (B2B) a...     Karachi    5-Mar-21  \n",
       "5  NOTE: Apply By Sending Your CV/Resume to: hrdp...  Faisalabad    5-Mar-21  \n",
       "6  Each Lead Agent is responsible for generating ...   Islamabad   22-Feb-21  \n",
       "7  We at Mercantile Enterprises (Pvt) Ltd is look...      Lahore   19-Feb-21  \n",
       "8  This job is a remote working opportunity. We a...  Faisalabad   17-Feb-21  \n",
       "9  Command on following skillsAngularJS\\nNodeJs\\n...     Karachi   16-Feb-21  "
      ]
     },
     "execution_count": 60,
     "metadata": {},
     "output_type": "execute_result"
    }
   ],
   "source": [
    "df.head(10)"
   ]
  },
  {
   "cell_type": "code",
   "execution_count": 61,
   "metadata": {},
   "outputs": [],
   "source": [
    "df = df.rename(columns={\n",
    "    'Job Name':'Job',\n",
    "    'label':'Label',\n",
    "    'Company Name':'Company',\n",
    "    'JD':'Description',\n",
    "})"
   ]
  },
  {
   "cell_type": "code",
   "execution_count": 62,
   "metadata": {},
   "outputs": [
    {
     "data": {
      "text/html": [
       "<div>\n",
       "<style scoped>\n",
       "    .dataframe tbody tr th:only-of-type {\n",
       "        vertical-align: middle;\n",
       "    }\n",
       "\n",
       "    .dataframe tbody tr th {\n",
       "        vertical-align: top;\n",
       "    }\n",
       "\n",
       "    .dataframe thead th {\n",
       "        text-align: right;\n",
       "    }\n",
       "</style>\n",
       "<table border=\"1\" class=\"dataframe\">\n",
       "  <thead>\n",
       "    <tr style=\"text-align: right;\">\n",
       "      <th></th>\n",
       "      <th>Job</th>\n",
       "      <th>Label</th>\n",
       "      <th>Company</th>\n",
       "      <th>Job Type</th>\n",
       "      <th>Experience Required</th>\n",
       "      <th>Department</th>\n",
       "      <th>Description</th>\n",
       "      <th>City</th>\n",
       "      <th>Date Posted</th>\n",
       "    </tr>\n",
       "  </thead>\n",
       "  <tbody>\n",
       "    <tr>\n",
       "      <th>0</th>\n",
       "      <td>Full Time New Job Positions .Net, .Netcore, Fl...</td>\n",
       "      <td>Premium Job</td>\n",
       "      <td>Nayel Solutions, Pakistan</td>\n",
       "      <td>Full Time Jobs</td>\n",
       "      <td>2 Years Job Exp.</td>\n",
       "      <td>IT Jobs</td>\n",
       "      <td>New Job Positions .net, .netcore, flutter, Tea...</td>\n",
       "      <td>Islamabad</td>\n",
       "      <td>12-Mar-21</td>\n",
       "    </tr>\n",
       "    <tr>\n",
       "      <th>1</th>\n",
       "      <td>Full Time Senior Web Developer Jobs in Pakistan</td>\n",
       "      <td>Premium Job</td>\n",
       "      <td>Eurosoft Tech Private Limited, Pakistan</td>\n",
       "      <td>Full Time Jobs</td>\n",
       "      <td>2 Years Job Exp.</td>\n",
       "      <td>IT Jobs</td>\n",
       "      <td>We are looking for an experienced Web Develope...</td>\n",
       "      <td>Karachi</td>\n",
       "      <td>12-Mar-21</td>\n",
       "    </tr>\n",
       "    <tr>\n",
       "      <th>2</th>\n",
       "      <td>Full Time Russian Speakers Jobs in Pakistan</td>\n",
       "      <td>Premium Job</td>\n",
       "      <td>ICM JAPAN, Pakistan</td>\n",
       "      <td>Full Time Jobs</td>\n",
       "      <td>&lt; 1 Year</td>\n",
       "      <td>Customer Service Jobs</td>\n",
       "      <td>International clients dealing exposure (B2B).S...</td>\n",
       "      <td>Karachi</td>\n",
       "      <td>12-Mar-21</td>\n",
       "    </tr>\n",
       "    <tr>\n",
       "      <th>3</th>\n",
       "      <td>Full Time Customer Support Specialist - Intern...</td>\n",
       "      <td>Premium Job</td>\n",
       "      <td>ibex, Pakistan</td>\n",
       "      <td>Full Time Jobs</td>\n",
       "      <td>Job for Fresh Graduates</td>\n",
       "      <td>Customer Service Jobs</td>\n",
       "      <td>Responsible for acting as a liaison between ou...</td>\n",
       "      <td>Islamabad</td>\n",
       "      <td>9-Mar-21</td>\n",
       "    </tr>\n",
       "    <tr>\n",
       "      <th>4</th>\n",
       "      <td>Full Time English Speaker - International Busi...</td>\n",
       "      <td>Premium Job</td>\n",
       "      <td>ICM JAPAN, Pakistan</td>\n",
       "      <td>Full Time Job</td>\n",
       "      <td>&lt; 1 Year</td>\n",
       "      <td>Customer Service Job</td>\n",
       "      <td>International clients dealing exposure (B2B) a...</td>\n",
       "      <td>Karachi</td>\n",
       "      <td>5-Mar-21</td>\n",
       "    </tr>\n",
       "  </tbody>\n",
       "</table>\n",
       "</div>"
      ],
      "text/plain": [
       "                                                 Job        Label  \\\n",
       "0  Full Time New Job Positions .Net, .Netcore, Fl...  Premium Job   \n",
       "1    Full Time Senior Web Developer Jobs in Pakistan  Premium Job   \n",
       "2        Full Time Russian Speakers Jobs in Pakistan  Premium Job   \n",
       "3  Full Time Customer Support Specialist - Intern...  Premium Job   \n",
       "4  Full Time English Speaker - International Busi...  Premium Job   \n",
       "\n",
       "                                   Company        Job Type  \\\n",
       "0                Nayel Solutions, Pakistan  Full Time Jobs   \n",
       "1  Eurosoft Tech Private Limited, Pakistan  Full Time Jobs   \n",
       "2                      ICM JAPAN, Pakistan  Full Time Jobs   \n",
       "3                           ibex, Pakistan  Full Time Jobs   \n",
       "4                      ICM JAPAN, Pakistan   Full Time Job   \n",
       "\n",
       "       Experience Required             Department  \\\n",
       "0         2 Years Job Exp.                IT Jobs   \n",
       "1         2 Years Job Exp.                IT Jobs   \n",
       "2                 < 1 Year  Customer Service Jobs   \n",
       "3  Job for Fresh Graduates  Customer Service Jobs   \n",
       "4                 < 1 Year   Customer Service Job   \n",
       "\n",
       "                                         Description       City Date Posted  \n",
       "0  New Job Positions .net, .netcore, flutter, Tea...  Islamabad   12-Mar-21  \n",
       "1  We are looking for an experienced Web Develope...    Karachi   12-Mar-21  \n",
       "2  International clients dealing exposure (B2B).S...    Karachi   12-Mar-21  \n",
       "3  Responsible for acting as a liaison between ou...  Islamabad    9-Mar-21  \n",
       "4  International clients dealing exposure (B2B) a...    Karachi    5-Mar-21  "
      ]
     },
     "execution_count": 62,
     "metadata": {},
     "output_type": "execute_result"
    }
   ],
   "source": [
    "df.head(5)"
   ]
  },
  {
   "cell_type": "code",
   "execution_count": 63,
   "metadata": {},
   "outputs": [
    {
     "data": {
      "text/plain": [
       "(6680, 9)"
      ]
     },
     "execution_count": 63,
     "metadata": {},
     "output_type": "execute_result"
    }
   ],
   "source": [
    "df.shape"
   ]
  },
  {
   "cell_type": "code",
   "execution_count": 64,
   "metadata": {},
   "outputs": [
    {
     "data": {
      "text/html": [
       "<div>\n",
       "<style scoped>\n",
       "    .dataframe tbody tr th:only-of-type {\n",
       "        vertical-align: middle;\n",
       "    }\n",
       "\n",
       "    .dataframe tbody tr th {\n",
       "        vertical-align: top;\n",
       "    }\n",
       "\n",
       "    .dataframe thead th {\n",
       "        text-align: right;\n",
       "    }\n",
       "</style>\n",
       "<table border=\"1\" class=\"dataframe\">\n",
       "  <thead>\n",
       "    <tr style=\"text-align: right;\">\n",
       "      <th></th>\n",
       "      <th>Job</th>\n",
       "      <th>Label</th>\n",
       "      <th>Company</th>\n",
       "      <th>Job Type</th>\n",
       "      <th>Experience Required</th>\n",
       "      <th>Department</th>\n",
       "      <th>Description</th>\n",
       "      <th>City</th>\n",
       "      <th>Date Posted</th>\n",
       "    </tr>\n",
       "  </thead>\n",
       "  <tbody>\n",
       "    <tr>\n",
       "      <th>count</th>\n",
       "      <td>6680</td>\n",
       "      <td>1115</td>\n",
       "      <td>6017</td>\n",
       "      <td>6680</td>\n",
       "      <td>6680</td>\n",
       "      <td>6680</td>\n",
       "      <td>6680</td>\n",
       "      <td>6680</td>\n",
       "      <td>6680</td>\n",
       "    </tr>\n",
       "    <tr>\n",
       "      <th>unique</th>\n",
       "      <td>3838</td>\n",
       "      <td>3</td>\n",
       "      <td>2879</td>\n",
       "      <td>2</td>\n",
       "      <td>17</td>\n",
       "      <td>111</td>\n",
       "      <td>5043</td>\n",
       "      <td>86</td>\n",
       "      <td>443</td>\n",
       "    </tr>\n",
       "    <tr>\n",
       "      <th>top</th>\n",
       "      <td>Full Time Graphic Designer Job in Pakistan</td>\n",
       "      <td>Gallery Job</td>\n",
       "      <td>ibex, Pakistan</td>\n",
       "      <td>Full Time Job</td>\n",
       "      <td>2 Years Job Exp.</td>\n",
       "      <td>IT Job</td>\n",
       "      <td>To generate quality leads that result in sales...</td>\n",
       "      <td>Lahore</td>\n",
       "      <td>23-Feb-21</td>\n",
       "    </tr>\n",
       "    <tr>\n",
       "      <th>freq</th>\n",
       "      <td>60</td>\n",
       "      <td>775</td>\n",
       "      <td>93</td>\n",
       "      <td>3821</td>\n",
       "      <td>1635</td>\n",
       "      <td>820</td>\n",
       "      <td>37</td>\n",
       "      <td>2046</td>\n",
       "      <td>134</td>\n",
       "    </tr>\n",
       "  </tbody>\n",
       "</table>\n",
       "</div>"
      ],
      "text/plain": [
       "                                               Job        Label  \\\n",
       "count                                         6680         1115   \n",
       "unique                                        3838            3   \n",
       "top     Full Time Graphic Designer Job in Pakistan  Gallery Job   \n",
       "freq                                            60          775   \n",
       "\n",
       "               Company       Job Type Experience Required Department  \\\n",
       "count             6017           6680                6680       6680   \n",
       "unique            2879              2                  17        111   \n",
       "top     ibex, Pakistan  Full Time Job    2 Years Job Exp.     IT Job   \n",
       "freq                93           3821                1635        820   \n",
       "\n",
       "                                              Description    City Date Posted  \n",
       "count                                                6680    6680        6680  \n",
       "unique                                               5043      86         443  \n",
       "top     To generate quality leads that result in sales...  Lahore   23-Feb-21  \n",
       "freq                                                   37    2046         134  "
      ]
     },
     "execution_count": 64,
     "metadata": {},
     "output_type": "execute_result"
    }
   ],
   "source": [
    "df.describe()"
   ]
  },
  {
   "cell_type": "code",
   "execution_count": 65,
   "metadata": {},
   "outputs": [
    {
     "data": {
      "text/plain": [
       "Job                    object\n",
       "Label                  object\n",
       "Company                object\n",
       "Job Type               object\n",
       "Experience Required    object\n",
       "Department             object\n",
       "Description            object\n",
       "City                   object\n",
       "Date Posted            object\n",
       "dtype: object"
      ]
     },
     "execution_count": 65,
     "metadata": {},
     "output_type": "execute_result"
    }
   ],
   "source": [
    "df.dtypes"
   ]
  },
  {
   "cell_type": "code",
   "execution_count": 66,
   "metadata": {},
   "outputs": [
    {
     "data": {
      "text/plain": [
       "Job                       0\n",
       "Label                  5565\n",
       "Company                 663\n",
       "Job Type                  0\n",
       "Experience Required       0\n",
       "Department                0\n",
       "Description               0\n",
       "City                      0\n",
       "Date Posted               0\n",
       "dtype: int64"
      ]
     },
     "execution_count": 66,
     "metadata": {},
     "output_type": "execute_result"
    }
   ],
   "source": [
    "df.isnull().sum()"
   ]
  },
  {
   "cell_type": "code",
   "execution_count": 67,
   "metadata": {},
   "outputs": [
    {
     "data": {
      "text/plain": [
       "<Axes: >"
      ]
     },
     "execution_count": 67,
     "metadata": {},
     "output_type": "execute_result"
    },
    {
     "data": {
      "image/png": "[encoded data removed]",
      "text/plain": [
       "<Figure size 640x480 with 1 Axes>"
      ]
     },
     "metadata": {},
     "output_type": "display_data"
    }
   ],
   "source": [
    "sns.heatmap(data=df.isnull(),yticklabels=False,cbar=False,cmap=\"Blues\")"
   ]
  },
  {
   "cell_type": "code",
   "execution_count": 68,
   "metadata": {},
   "outputs": [
    {
     "data": {
      "text/plain": [
       "Job                       0\n",
       "Label                  5565\n",
       "Company                 663\n",
       "Job Type                  0\n",
       "Experience Required       0\n",
       "Department                0\n",
       "Description               0\n",
       "City                      0\n",
       "Date Posted               0\n",
       "dtype: int64"
      ]
     },
     "execution_count": 68,
     "metadata": {},
     "output_type": "execute_result"
    }
   ],
   "source": [
    "df.isnull().sum()"
   ]
  },
  {
   "cell_type": "code",
   "execution_count": 69,
   "metadata": {},
   "outputs": [],
   "source": [
    "df = df.drop(['Label'],axis=1)"
   ]
  },
  {
   "cell_type": "code",
   "execution_count": 70,
   "metadata": {},
   "outputs": [
    {
     "data": {
      "text/html": [
       "<div>\n",
       "<style scoped>\n",
       "    .dataframe tbody tr th:only-of-type {\n",
       "        vertical-align: middle;\n",
       "    }\n",
       "\n",
       "    .dataframe tbody tr th {\n",
       "        vertical-align: top;\n",
       "    }\n",
       "\n",
       "    .dataframe thead th {\n",
       "        text-align: right;\n",
       "    }\n",
       "</style>\n",
       "<table border=\"1\" class=\"dataframe\">\n",
       "  <thead>\n",
       "    <tr style=\"text-align: right;\">\n",
       "      <th></th>\n",
       "      <th>Job</th>\n",
       "      <th>Company</th>\n",
       "      <th>Job Type</th>\n",
       "      <th>Experience Required</th>\n",
       "      <th>Department</th>\n",
       "      <th>Description</th>\n",
       "      <th>City</th>\n",
       "      <th>Date Posted</th>\n",
       "    </tr>\n",
       "  </thead>\n",
       "  <tbody>\n",
       "    <tr>\n",
       "      <th>0</th>\n",
       "      <td>Full Time New Job Positions .Net, .Netcore, Fl...</td>\n",
       "      <td>Nayel Solutions, Pakistan</td>\n",
       "      <td>Full Time Jobs</td>\n",
       "      <td>2 Years Job Exp.</td>\n",
       "      <td>IT Jobs</td>\n",
       "      <td>New Job Positions .net, .netcore, flutter, Tea...</td>\n",
       "      <td>Islamabad</td>\n",
       "      <td>12-Mar-21</td>\n",
       "    </tr>\n",
       "    <tr>\n",
       "      <th>1</th>\n",
       "      <td>Full Time Senior Web Developer Jobs in Pakistan</td>\n",
       "      <td>Eurosoft Tech Private Limited, Pakistan</td>\n",
       "      <td>Full Time Jobs</td>\n",
       "      <td>2 Years Job Exp.</td>\n",
       "      <td>IT Jobs</td>\n",
       "      <td>We are looking for an experienced Web Develope...</td>\n",
       "      <td>Karachi</td>\n",
       "      <td>12-Mar-21</td>\n",
       "    </tr>\n",
       "    <tr>\n",
       "      <th>2</th>\n",
       "      <td>Full Time Russian Speakers Jobs in Pakistan</td>\n",
       "      <td>ICM JAPAN, Pakistan</td>\n",
       "      <td>Full Time Jobs</td>\n",
       "      <td>&lt; 1 Year</td>\n",
       "      <td>Customer Service Jobs</td>\n",
       "      <td>International clients dealing exposure (B2B).S...</td>\n",
       "      <td>Karachi</td>\n",
       "      <td>12-Mar-21</td>\n",
       "    </tr>\n",
       "    <tr>\n",
       "      <th>3</th>\n",
       "      <td>Full Time Customer Support Specialist - Intern...</td>\n",
       "      <td>ibex, Pakistan</td>\n",
       "      <td>Full Time Jobs</td>\n",
       "      <td>Job for Fresh Graduates</td>\n",
       "      <td>Customer Service Jobs</td>\n",
       "      <td>Responsible for acting as a liaison between ou...</td>\n",
       "      <td>Islamabad</td>\n",
       "      <td>9-Mar-21</td>\n",
       "    </tr>\n",
       "    <tr>\n",
       "      <th>4</th>\n",
       "      <td>Full Time English Speaker - International Busi...</td>\n",
       "      <td>ICM JAPAN, Pakistan</td>\n",
       "      <td>Full Time Job</td>\n",
       "      <td>&lt; 1 Year</td>\n",
       "      <td>Customer Service Job</td>\n",
       "      <td>International clients dealing exposure (B2B) a...</td>\n",
       "      <td>Karachi</td>\n",
       "      <td>5-Mar-21</td>\n",
       "    </tr>\n",
       "  </tbody>\n",
       "</table>\n",
       "</div>"
      ],
      "text/plain": [
       "                                                 Job  \\\n",
       "0  Full Time New Job Positions .Net, .Netcore, Fl...   \n",
       "1    Full Time Senior Web Developer Jobs in Pakistan   \n",
       "2        Full Time Russian Speakers Jobs in Pakistan   \n",
       "3  Full Time Customer Support Specialist - Intern...   \n",
       "4  Full Time English Speaker - International Busi...   \n",
       "\n",
       "                                   Company        Job Type  \\\n",
       "0                Nayel Solutions, Pakistan  Full Time Jobs   \n",
       "1  Eurosoft Tech Private Limited, Pakistan  Full Time Jobs   \n",
       "2                      ICM JAPAN, Pakistan  Full Time Jobs   \n",
       "3                           ibex, Pakistan  Full Time Jobs   \n",
       "4                      ICM JAPAN, Pakistan   Full Time Job   \n",
       "\n",
       "       Experience Required             Department  \\\n",
       "0         2 Years Job Exp.                IT Jobs   \n",
       "1         2 Years Job Exp.                IT Jobs   \n",
       "2                 < 1 Year  Customer Service Jobs   \n",
       "3  Job for Fresh Graduates  Customer Service Jobs   \n",
       "4                 < 1 Year   Customer Service Job   \n",
       "\n",
       "                                         Description       City Date Posted  \n",
       "0  New Job Positions .net, .netcore, flutter, Tea...  Islamabad   12-Mar-21  \n",
       "1  We are looking for an experienced Web Develope...    Karachi   12-Mar-21  \n",
       "2  International clients dealing exposure (B2B).S...    Karachi   12-Mar-21  \n",
       "3  Responsible for acting as a liaison between ou...  Islamabad    9-Mar-21  \n",
       "4  International clients dealing exposure (B2B) a...    Karachi    5-Mar-21  "
      ]
     },
     "execution_count": 70,
     "metadata": {},
     "output_type": "execute_result"
    }
   ],
   "source": [
    "df.head(5)"
   ]
  },
  {
   "cell_type": "code",
   "execution_count": 71,
   "metadata": {},
   "outputs": [
    {
     "data": {
      "text/plain": [
       "Job                    6017\n",
       "Company                6017\n",
       "Job Type               6017\n",
       "Experience Required    6017\n",
       "Department             6017\n",
       "Description            6017\n",
       "City                   6017\n",
       "Date Posted            6017\n",
       "dtype: int64"
      ]
     },
     "execution_count": 71,
     "metadata": {},
     "output_type": "execute_result"
    }
   ],
   "source": [
    "df = df.dropna()\n",
    "df.count()"
   ]
  },
  {
   "cell_type": "code",
   "execution_count": 72,
   "metadata": {},
   "outputs": [
    {
     "data": {
      "text/plain": [
       "Job                    0\n",
       "Company                0\n",
       "Job Type               0\n",
       "Experience Required    0\n",
       "Department             0\n",
       "Description            0\n",
       "City                   0\n",
       "Date Posted            0\n",
       "dtype: int64"
      ]
     },
     "execution_count": 72,
     "metadata": {},
     "output_type": "execute_result"
    }
   ],
   "source": [
    "df.isnull().sum()"
   ]
  },
  {
   "cell_type": "code",
   "execution_count": 160,
   "metadata": {},
   "outputs": [
    {
     "data": {
      "image/png": "[encoded data removed]",
      "text/plain": [
       "<Figure size 640x480 with 1 Axes>"
      ]
     },
     "metadata": {},
     "output_type": "display_data"
    }
   ],
   "source": [
    "city_counts = df['City'].value_counts().head(10).reset_index(name=\"City Job Counts\")\n",
    "sns.barplot(hue='City',x = 'City',y='City Job Counts',data=city_counts,palette='viridis',legend=False)\n",
    "plt.title(\"Cities with Total Number Of Jobs Available\")\n",
    "plt.xticks(rotation=90,ha='right')\n",
    "plt.show()"
   ]
  }
 ],
 "metadata": {
  "kernelspec": {
   "display_name": "Python 3",
   "language": "python",
   "name": "python3"
  },
  "language_info": {
   "codemirror_mode": {
    "name": "ipython",
    "version": 3
   },
   "file_extension": ".py",
   "mimetype": "text/x-python",
   "name": "python",
   "nbconvert_exporter": "python",
   "pygments_lexer": "ipython3",
   "version": "3.11.7"
  }
 },
 "nbformat": 4,
 "nbformat_minor": 2
}
